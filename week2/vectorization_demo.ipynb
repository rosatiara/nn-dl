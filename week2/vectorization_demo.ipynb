{
 "cells": [
  {
   "cell_type": "code",
   "execution_count": 1,
   "metadata": {},
   "outputs": [],
   "source": [
    "import numpy as np\n",
    "a = np.array([1,2,3,4])\n",
    "print(a)"
   ]
  },
  {
   "cell_type": "code",
   "execution_count": 6,
   "metadata": {},
   "outputs": [
    {
     "name": "stdout",
     "output_type": "stream",
     "text": [
      "Vectorized version: 1.008749008178711ms\n",
      "Unvectorized version: 533.4980487823486ms\n"
     ]
    }
   ],
   "source": [
    "import time\n",
    "\n",
    "a = np.random.rand(1000000) # create a million randomized dimensional array.\n",
    "b = np.random.rand(1000000)\n",
    "\n",
    "# compute the time it takes using Vectorization\n",
    "tic = time.time()\n",
    "c = np.dot(a,b) # dot product of a & b\n",
    "toc = time.time()\n",
    "\n",
    "print(\"Vectorized version: \" + str(1000*(toc-tic)) + \"ms\") # return the execution time in ms\n",
    "\n",
    "# Unvectorized version\n",
    "c = 0\n",
    "tic = time.time()\n",
    "for i in range (1000000):\n",
    "  c+= a[i]*b[i]\n",
    "toc = time.time()\n",
    "\n",
    "print(\"Unvectorized version (using for loop): \" + str(1000*(toc-tic)) + \"ms\") # return the execution time in ms\n",
    "\n"
   ]
  },
  {
   "cell_type": "code",
   "execution_count": null,
   "metadata": {},
   "outputs": [],
   "source": []
  }
 ],
 "metadata": {
  "interpreter": {
   "hash": "d2c53a8514c79cc148d46934bc8b056e82de35c7c8040deceb29a5f5195a57bb"
  },
  "kernelspec": {
   "display_name": "Python 3.10.2 64-bit",
   "language": "python",
   "name": "python3"
  },
  "language_info": {
   "codemirror_mode": {
    "name": "ipython",
    "version": 3
   },
   "file_extension": ".py",
   "mimetype": "text/x-python",
   "name": "python",
   "nbconvert_exporter": "python",
   "pygments_lexer": "ipython3",
   "version": "3.10.2"
  },
  "orig_nbformat": 4
 },
 "nbformat": 4,
 "nbformat_minor": 2
}
