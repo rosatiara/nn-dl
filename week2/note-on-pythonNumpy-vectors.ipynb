{
 "cells": [
  {
   "cell_type": "code",
   "execution_count": 3,
   "metadata": {},
   "outputs": [
    {
     "name": "stdout",
     "output_type": "stream",
     "text": [
      "[-2.29798167  0.63231539 -0.47975587  0.0869856   1.17374798]\n"
     ]
    }
   ],
   "source": [
    "import numpy as np\n",
    "a = np.random.randn(5)\n",
    "print(a)"
   ]
  },
  {
   "cell_type": "code",
   "execution_count": 7,
   "metadata": {},
   "outputs": [
    {
     "name": "stdout",
     "output_type": "stream",
     "text": [
      "(5,)\n",
      "[-2.29798167  0.63231539 -0.47975587  0.0869856   1.17374798]\n",
      "7.295959036506625\n"
     ]
    }
   ],
   "source": [
    "print(a.shape)"
   ]
  },
  {
   "cell_type": "code",
   "execution_count": 8,
   "metadata": {},
   "outputs": [
    {
     "name": "stdout",
     "output_type": "stream",
     "text": [
      "[-2.29798167  0.63231539 -0.47975587  0.0869856   1.17374798]\n"
     ]
    }
   ],
   "source": [
    "print(a.T) # print a transpose"
   ]
  },
  {
   "cell_type": "code",
   "execution_count": 9,
   "metadata": {},
   "outputs": [
    {
     "name": "stdout",
     "output_type": "stream",
     "text": [
      "7.295959036506625\n"
     ]
    }
   ],
   "source": [
    "print(np.dot(a, a.T)) # this dot product will produce a number instead of a matrix."
   ]
  },
  {
   "cell_type": "markdown",
   "metadata": {},
   "source": [
    "(5,) is called a \"rank 1 array\" & usually known in Data Structures. This method is not recommended to use in Neural Network computation since it is inconsistent. Instead, use the method below."
   ]
  },
  {
   "cell_type": "code",
   "execution_count": 12,
   "metadata": {},
   "outputs": [
    {
     "name": "stdout",
     "output_type": "stream",
     "text": [
      "[[-0.40194274]\n",
      " [-1.0281759 ]\n",
      " [ 0.18444534]\n",
      " [ 0.45678446]\n",
      " [ 1.44136207]]\n"
     ]
    }
   ],
   "source": [
    "a = np.random.randn(5,1) # specify the column vector\n",
    "print(a)"
   ]
  },
  {
   "cell_type": "code",
   "execution_count": 18,
   "metadata": {},
   "outputs": [],
   "source": [
    "assert(a.shape == (5,1)) # make sure that our matrix is 5,1\n",
    "a = a.reshape((5,1)) # tips from Andrew: don't be shy about recalling the reshape() function to make sure about our matrix dimension."
   ]
  },
  {
   "cell_type": "code",
   "execution_count": 13,
   "metadata": {},
   "outputs": [
    {
     "name": "stdout",
     "output_type": "stream",
     "text": [
      "[[-0.40194274 -1.0281759   0.18444534  0.45678446  1.44136207]]\n"
     ]
    }
   ],
   "source": [
    "print(a.T)"
   ]
  },
  {
   "cell_type": "code",
   "execution_count": 14,
   "metadata": {},
   "outputs": [
    {
     "name": "stdout",
     "output_type": "stream",
     "text": [
      "[[ 0.16155797  0.41326784 -0.07413646 -0.1836012  -0.57934502]\n",
      " [ 0.41326784  1.05714568 -0.18964225 -0.46965477 -1.48197374]\n",
      " [-0.07413646 -0.18964225  0.03402008  0.08425176  0.26585251]\n",
      " [-0.1836012  -0.46965477  0.08425176  0.20865204  0.65839179]\n",
      " [-0.57934502 -1.48197374  0.26585251  0.65839179  2.07752461]]\n"
     ]
    }
   ],
   "source": [
    "print(np.dot(a, a.T)) # this dot product will produce a matrix! :D"
   ]
  }
 ],
 "metadata": {
  "interpreter": {
   "hash": "d2c53a8514c79cc148d46934bc8b056e82de35c7c8040deceb29a5f5195a57bb"
  },
  "kernelspec": {
   "display_name": "Python 3.10.2 64-bit",
   "language": "python",
   "name": "python3"
  },
  "language_info": {
   "codemirror_mode": {
    "name": "ipython",
    "version": 3
   },
   "file_extension": ".py",
   "mimetype": "text/x-python",
   "name": "python",
   "nbconvert_exporter": "python",
   "pygments_lexer": "ipython3",
   "version": "3.10.2"
  },
  "orig_nbformat": 4
 },
 "nbformat": 4,
 "nbformat_minor": 2
}
